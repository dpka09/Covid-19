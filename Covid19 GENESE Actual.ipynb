{
 "cells": [
  {
   "cell_type": "markdown",
   "metadata": {},
   "source": [
    "# Covid-19 Visualization, Prediction and Forecast\n"
   ]
  },
  {
   "cell_type": "markdown",
   "metadata": {},
   "source": [
    "Importing essential libraries"
   ]
  },
  {
   "cell_type": "code",
   "execution_count": 1,
   "metadata": {},
   "outputs": [],
   "source": [
    "import numpy as np\n",
    "import pandas as pd\n",
    "import matplotlib.pyplot as plt\n",
    "import seaborn as sns"
   ]
  },
  {
   "cell_type": "markdown",
   "metadata": {},
   "source": [
    "Importing Dataset"
   ]
  },
  {
   "cell_type": "code",
   "execution_count": 2,
   "metadata": {},
   "outputs": [],
   "source": [
    "df= pd.read_csv(\"covid19.csv\")"
   ]
  },
  {
   "cell_type": "markdown",
   "metadata": {},
   "source": [
    "Displaying data for data cleaning process"
   ]
  },
  {
   "cell_type": "code",
   "execution_count": 3,
   "metadata": {},
   "outputs": [
    {
     "data": {
      "text/html": [
       "<div>\n",
       "<style scoped>\n",
       "    .dataframe tbody tr th:only-of-type {\n",
       "        vertical-align: middle;\n",
       "    }\n",
       "\n",
       "    .dataframe tbody tr th {\n",
       "        vertical-align: top;\n",
       "    }\n",
       "\n",
       "    .dataframe thead th {\n",
       "        text-align: right;\n",
       "    }\n",
       "</style>\n",
       "<table border=\"1\" class=\"dataframe\">\n",
       "  <thead>\n",
       "    <tr style=\"text-align: right;\">\n",
       "      <th></th>\n",
       "      <th>iso_code</th>\n",
       "      <th>continent</th>\n",
       "      <th>location</th>\n",
       "      <th>date</th>\n",
       "      <th>total_cases</th>\n",
       "      <th>new_cases</th>\n",
       "      <th>new_cases_smoothed</th>\n",
       "      <th>total_deaths</th>\n",
       "      <th>new_deaths</th>\n",
       "      <th>new_deaths_smoothed</th>\n",
       "      <th>...</th>\n",
       "      <th>gdp_per_capita</th>\n",
       "      <th>extreme_poverty</th>\n",
       "      <th>cardiovasc_death_rate</th>\n",
       "      <th>diabetes_prevalence</th>\n",
       "      <th>female_smokers</th>\n",
       "      <th>male_smokers</th>\n",
       "      <th>handwashing_facilities</th>\n",
       "      <th>hospital_beds_per_thousand</th>\n",
       "      <th>life_expectancy</th>\n",
       "      <th>human_development_index</th>\n",
       "    </tr>\n",
       "  </thead>\n",
       "  <tbody>\n",
       "    <tr>\n",
       "      <th>0</th>\n",
       "      <td>AFG</td>\n",
       "      <td>Asia</td>\n",
       "      <td>Afghanistan</td>\n",
       "      <td>2019-12-31</td>\n",
       "      <td>0.0</td>\n",
       "      <td>0.0</td>\n",
       "      <td>NaN</td>\n",
       "      <td>0.0</td>\n",
       "      <td>0.0</td>\n",
       "      <td>NaN</td>\n",
       "      <td>...</td>\n",
       "      <td>1803.987</td>\n",
       "      <td>NaN</td>\n",
       "      <td>597.029</td>\n",
       "      <td>9.59</td>\n",
       "      <td>NaN</td>\n",
       "      <td>NaN</td>\n",
       "      <td>37.746</td>\n",
       "      <td>0.5</td>\n",
       "      <td>64.83</td>\n",
       "      <td>0.498</td>\n",
       "    </tr>\n",
       "    <tr>\n",
       "      <th>1</th>\n",
       "      <td>AFG</td>\n",
       "      <td>Asia</td>\n",
       "      <td>Afghanistan</td>\n",
       "      <td>2020-01-01</td>\n",
       "      <td>0.0</td>\n",
       "      <td>0.0</td>\n",
       "      <td>NaN</td>\n",
       "      <td>0.0</td>\n",
       "      <td>0.0</td>\n",
       "      <td>NaN</td>\n",
       "      <td>...</td>\n",
       "      <td>1803.987</td>\n",
       "      <td>NaN</td>\n",
       "      <td>597.029</td>\n",
       "      <td>9.59</td>\n",
       "      <td>NaN</td>\n",
       "      <td>NaN</td>\n",
       "      <td>37.746</td>\n",
       "      <td>0.5</td>\n",
       "      <td>64.83</td>\n",
       "      <td>0.498</td>\n",
       "    </tr>\n",
       "    <tr>\n",
       "      <th>2</th>\n",
       "      <td>AFG</td>\n",
       "      <td>Asia</td>\n",
       "      <td>Afghanistan</td>\n",
       "      <td>2020-01-02</td>\n",
       "      <td>0.0</td>\n",
       "      <td>0.0</td>\n",
       "      <td>NaN</td>\n",
       "      <td>0.0</td>\n",
       "      <td>0.0</td>\n",
       "      <td>NaN</td>\n",
       "      <td>...</td>\n",
       "      <td>1803.987</td>\n",
       "      <td>NaN</td>\n",
       "      <td>597.029</td>\n",
       "      <td>9.59</td>\n",
       "      <td>NaN</td>\n",
       "      <td>NaN</td>\n",
       "      <td>37.746</td>\n",
       "      <td>0.5</td>\n",
       "      <td>64.83</td>\n",
       "      <td>0.498</td>\n",
       "    </tr>\n",
       "    <tr>\n",
       "      <th>3</th>\n",
       "      <td>AFG</td>\n",
       "      <td>Asia</td>\n",
       "      <td>Afghanistan</td>\n",
       "      <td>2020-01-03</td>\n",
       "      <td>0.0</td>\n",
       "      <td>0.0</td>\n",
       "      <td>NaN</td>\n",
       "      <td>0.0</td>\n",
       "      <td>0.0</td>\n",
       "      <td>NaN</td>\n",
       "      <td>...</td>\n",
       "      <td>1803.987</td>\n",
       "      <td>NaN</td>\n",
       "      <td>597.029</td>\n",
       "      <td>9.59</td>\n",
       "      <td>NaN</td>\n",
       "      <td>NaN</td>\n",
       "      <td>37.746</td>\n",
       "      <td>0.5</td>\n",
       "      <td>64.83</td>\n",
       "      <td>0.498</td>\n",
       "    </tr>\n",
       "    <tr>\n",
       "      <th>4</th>\n",
       "      <td>AFG</td>\n",
       "      <td>Asia</td>\n",
       "      <td>Afghanistan</td>\n",
       "      <td>2020-01-04</td>\n",
       "      <td>0.0</td>\n",
       "      <td>0.0</td>\n",
       "      <td>NaN</td>\n",
       "      <td>0.0</td>\n",
       "      <td>0.0</td>\n",
       "      <td>NaN</td>\n",
       "      <td>...</td>\n",
       "      <td>1803.987</td>\n",
       "      <td>NaN</td>\n",
       "      <td>597.029</td>\n",
       "      <td>9.59</td>\n",
       "      <td>NaN</td>\n",
       "      <td>NaN</td>\n",
       "      <td>37.746</td>\n",
       "      <td>0.5</td>\n",
       "      <td>64.83</td>\n",
       "      <td>0.498</td>\n",
       "    </tr>\n",
       "    <tr>\n",
       "      <th>...</th>\n",
       "      <td>...</td>\n",
       "      <td>...</td>\n",
       "      <td>...</td>\n",
       "      <td>...</td>\n",
       "      <td>...</td>\n",
       "      <td>...</td>\n",
       "      <td>...</td>\n",
       "      <td>...</td>\n",
       "      <td>...</td>\n",
       "      <td>...</td>\n",
       "      <td>...</td>\n",
       "      <td>...</td>\n",
       "      <td>...</td>\n",
       "      <td>...</td>\n",
       "      <td>...</td>\n",
       "      <td>...</td>\n",
       "      <td>...</td>\n",
       "      <td>...</td>\n",
       "      <td>...</td>\n",
       "      <td>...</td>\n",
       "      <td>...</td>\n",
       "    </tr>\n",
       "    <tr>\n",
       "      <th>50085</th>\n",
       "      <td>NaN</td>\n",
       "      <td>NaN</td>\n",
       "      <td>International</td>\n",
       "      <td>2020-10-10</td>\n",
       "      <td>696.0</td>\n",
       "      <td>NaN</td>\n",
       "      <td>NaN</td>\n",
       "      <td>7.0</td>\n",
       "      <td>NaN</td>\n",
       "      <td>NaN</td>\n",
       "      <td>...</td>\n",
       "      <td>NaN</td>\n",
       "      <td>NaN</td>\n",
       "      <td>NaN</td>\n",
       "      <td>NaN</td>\n",
       "      <td>NaN</td>\n",
       "      <td>NaN</td>\n",
       "      <td>NaN</td>\n",
       "      <td>NaN</td>\n",
       "      <td>NaN</td>\n",
       "      <td>NaN</td>\n",
       "    </tr>\n",
       "    <tr>\n",
       "      <th>50086</th>\n",
       "      <td>NaN</td>\n",
       "      <td>NaN</td>\n",
       "      <td>International</td>\n",
       "      <td>2020-10-11</td>\n",
       "      <td>696.0</td>\n",
       "      <td>NaN</td>\n",
       "      <td>NaN</td>\n",
       "      <td>7.0</td>\n",
       "      <td>NaN</td>\n",
       "      <td>NaN</td>\n",
       "      <td>...</td>\n",
       "      <td>NaN</td>\n",
       "      <td>NaN</td>\n",
       "      <td>NaN</td>\n",
       "      <td>NaN</td>\n",
       "      <td>NaN</td>\n",
       "      <td>NaN</td>\n",
       "      <td>NaN</td>\n",
       "      <td>NaN</td>\n",
       "      <td>NaN</td>\n",
       "      <td>NaN</td>\n",
       "    </tr>\n",
       "    <tr>\n",
       "      <th>50087</th>\n",
       "      <td>NaN</td>\n",
       "      <td>NaN</td>\n",
       "      <td>International</td>\n",
       "      <td>2020-10-12</td>\n",
       "      <td>696.0</td>\n",
       "      <td>NaN</td>\n",
       "      <td>NaN</td>\n",
       "      <td>7.0</td>\n",
       "      <td>NaN</td>\n",
       "      <td>NaN</td>\n",
       "      <td>...</td>\n",
       "      <td>NaN</td>\n",
       "      <td>NaN</td>\n",
       "      <td>NaN</td>\n",
       "      <td>NaN</td>\n",
       "      <td>NaN</td>\n",
       "      <td>NaN</td>\n",
       "      <td>NaN</td>\n",
       "      <td>NaN</td>\n",
       "      <td>NaN</td>\n",
       "      <td>NaN</td>\n",
       "    </tr>\n",
       "    <tr>\n",
       "      <th>50088</th>\n",
       "      <td>NaN</td>\n",
       "      <td>NaN</td>\n",
       "      <td>International</td>\n",
       "      <td>2020-10-13</td>\n",
       "      <td>696.0</td>\n",
       "      <td>NaN</td>\n",
       "      <td>NaN</td>\n",
       "      <td>7.0</td>\n",
       "      <td>NaN</td>\n",
       "      <td>NaN</td>\n",
       "      <td>...</td>\n",
       "      <td>NaN</td>\n",
       "      <td>NaN</td>\n",
       "      <td>NaN</td>\n",
       "      <td>NaN</td>\n",
       "      <td>NaN</td>\n",
       "      <td>NaN</td>\n",
       "      <td>NaN</td>\n",
       "      <td>NaN</td>\n",
       "      <td>NaN</td>\n",
       "      <td>NaN</td>\n",
       "    </tr>\n",
       "    <tr>\n",
       "      <th>50089</th>\n",
       "      <td>NaN</td>\n",
       "      <td>NaN</td>\n",
       "      <td>International</td>\n",
       "      <td>2020-10-14</td>\n",
       "      <td>696.0</td>\n",
       "      <td>NaN</td>\n",
       "      <td>NaN</td>\n",
       "      <td>7.0</td>\n",
       "      <td>NaN</td>\n",
       "      <td>NaN</td>\n",
       "      <td>...</td>\n",
       "      <td>NaN</td>\n",
       "      <td>NaN</td>\n",
       "      <td>NaN</td>\n",
       "      <td>NaN</td>\n",
       "      <td>NaN</td>\n",
       "      <td>NaN</td>\n",
       "      <td>NaN</td>\n",
       "      <td>NaN</td>\n",
       "      <td>NaN</td>\n",
       "      <td>NaN</td>\n",
       "    </tr>\n",
       "  </tbody>\n",
       "</table>\n",
       "<p>50090 rows × 41 columns</p>\n",
       "</div>"
      ],
      "text/plain": [
       "      iso_code continent       location        date  total_cases  new_cases  \\\n",
       "0          AFG      Asia    Afghanistan  2019-12-31          0.0        0.0   \n",
       "1          AFG      Asia    Afghanistan  2020-01-01          0.0        0.0   \n",
       "2          AFG      Asia    Afghanistan  2020-01-02          0.0        0.0   \n",
       "3          AFG      Asia    Afghanistan  2020-01-03          0.0        0.0   \n",
       "4          AFG      Asia    Afghanistan  2020-01-04          0.0        0.0   \n",
       "...        ...       ...            ...         ...          ...        ...   \n",
       "50085      NaN       NaN  International  2020-10-10        696.0        NaN   \n",
       "50086      NaN       NaN  International  2020-10-11        696.0        NaN   \n",
       "50087      NaN       NaN  International  2020-10-12        696.0        NaN   \n",
       "50088      NaN       NaN  International  2020-10-13        696.0        NaN   \n",
       "50089      NaN       NaN  International  2020-10-14        696.0        NaN   \n",
       "\n",
       "       new_cases_smoothed  total_deaths  new_deaths  new_deaths_smoothed  ...  \\\n",
       "0                     NaN           0.0         0.0                  NaN  ...   \n",
       "1                     NaN           0.0         0.0                  NaN  ...   \n",
       "2                     NaN           0.0         0.0                  NaN  ...   \n",
       "3                     NaN           0.0         0.0                  NaN  ...   \n",
       "4                     NaN           0.0         0.0                  NaN  ...   \n",
       "...                   ...           ...         ...                  ...  ...   \n",
       "50085                 NaN           7.0         NaN                  NaN  ...   \n",
       "50086                 NaN           7.0         NaN                  NaN  ...   \n",
       "50087                 NaN           7.0         NaN                  NaN  ...   \n",
       "50088                 NaN           7.0         NaN                  NaN  ...   \n",
       "50089                 NaN           7.0         NaN                  NaN  ...   \n",
       "\n",
       "       gdp_per_capita  extreme_poverty  cardiovasc_death_rate  \\\n",
       "0            1803.987              NaN                597.029   \n",
       "1            1803.987              NaN                597.029   \n",
       "2            1803.987              NaN                597.029   \n",
       "3            1803.987              NaN                597.029   \n",
       "4            1803.987              NaN                597.029   \n",
       "...               ...              ...                    ...   \n",
       "50085             NaN              NaN                    NaN   \n",
       "50086             NaN              NaN                    NaN   \n",
       "50087             NaN              NaN                    NaN   \n",
       "50088             NaN              NaN                    NaN   \n",
       "50089             NaN              NaN                    NaN   \n",
       "\n",
       "       diabetes_prevalence  female_smokers  male_smokers  \\\n",
       "0                     9.59             NaN           NaN   \n",
       "1                     9.59             NaN           NaN   \n",
       "2                     9.59             NaN           NaN   \n",
       "3                     9.59             NaN           NaN   \n",
       "4                     9.59             NaN           NaN   \n",
       "...                    ...             ...           ...   \n",
       "50085                  NaN             NaN           NaN   \n",
       "50086                  NaN             NaN           NaN   \n",
       "50087                  NaN             NaN           NaN   \n",
       "50088                  NaN             NaN           NaN   \n",
       "50089                  NaN             NaN           NaN   \n",
       "\n",
       "       handwashing_facilities  hospital_beds_per_thousand  life_expectancy  \\\n",
       "0                      37.746                         0.5            64.83   \n",
       "1                      37.746                         0.5            64.83   \n",
       "2                      37.746                         0.5            64.83   \n",
       "3                      37.746                         0.5            64.83   \n",
       "4                      37.746                         0.5            64.83   \n",
       "...                       ...                         ...              ...   \n",
       "50085                     NaN                         NaN              NaN   \n",
       "50086                     NaN                         NaN              NaN   \n",
       "50087                     NaN                         NaN              NaN   \n",
       "50088                     NaN                         NaN              NaN   \n",
       "50089                     NaN                         NaN              NaN   \n",
       "\n",
       "       human_development_index  \n",
       "0                        0.498  \n",
       "1                        0.498  \n",
       "2                        0.498  \n",
       "3                        0.498  \n",
       "4                        0.498  \n",
       "...                        ...  \n",
       "50085                      NaN  \n",
       "50086                      NaN  \n",
       "50087                      NaN  \n",
       "50088                      NaN  \n",
       "50089                      NaN  \n",
       "\n",
       "[50090 rows x 41 columns]"
      ]
     },
     "execution_count": 3,
     "metadata": {},
     "output_type": "execute_result"
    }
   ],
   "source": [
    "df"
   ]
  },
  {
   "cell_type": "code",
   "execution_count": 4,
   "metadata": {},
   "outputs": [],
   "source": [
    "#data.dtypes"
   ]
  },
  {
   "cell_type": "markdown",
   "metadata": {},
   "source": [
    "Checking and taking care of null values"
   ]
  },
  {
   "cell_type": "code",
   "execution_count": 5,
   "metadata": {},
   "outputs": [
    {
     "data": {
      "text/plain": [
       "iso_code                             289\n",
       "continent                            578\n",
       "location                               0\n",
       "date                                   0\n",
       "total_cases                          636\n",
       "new_cases                            861\n",
       "new_cases_smoothed                  1643\n",
       "total_deaths                         636\n",
       "new_deaths                           861\n",
       "new_deaths_smoothed                 1643\n",
       "total_cases_per_million              925\n",
       "new_cases_per_million                925\n",
       "new_cases_smoothed_per_million      1708\n",
       "total_deaths_per_million             925\n",
       "new_deaths_per_million               925\n",
       "new_deaths_smoothed_per_million     1708\n",
       "new_tests                          32049\n",
       "total_tests                        31624\n",
       "total_tests_per_thousand           31624\n",
       "new_tests_per_thousand             32049\n",
       "new_tests_smoothed                 29659\n",
       "new_tests_smoothed_per_thousand    29659\n",
       "tests_per_case                     31281\n",
       "positive_rate                      30819\n",
       "tests_units                        28802\n",
       "stringency_index                    8501\n",
       "population                           289\n",
       "population_density                  2583\n",
       "median_age                          5458\n",
       "aged_65_older                       6125\n",
       "aged_70_older                       5690\n",
       "gdp_per_capita                      6043\n",
       "extreme_poverty                    20716\n",
       "cardiovasc_death_rate               5471\n",
       "diabetes_prevalence                 3869\n",
       "female_smokers                     15205\n",
       "male_smokers                       15650\n",
       "handwashing_facilities             29127\n",
       "hospital_beds_per_thousand          9827\n",
       "life_expectancy                      922\n",
       "human_development_index             7027\n",
       "dtype: int64"
      ]
     },
     "execution_count": 5,
     "metadata": {},
     "output_type": "execute_result"
    }
   ],
   "source": [
    "df.isna().sum()"
   ]
  },
  {
   "cell_type": "markdown",
   "metadata": {},
   "source": [
    "Dropping out unnwanted and highly correlated data features"
   ]
  },
  {
   "cell_type": "code",
   "execution_count": 6,
   "metadata": {},
   "outputs": [],
   "source": [
    "bucket=[\"iso_code\",\"new_cases\",\"new_deaths\",\"median_age\",\"aged_70_older\",\"new_tests\",\"new_cases_per_million\",\"new_deaths_per_million\",\"total_cases_per_million\",\"new_cases_smoothed_per_million\",\"total_deaths_per_million\",\"new_deaths_smoothed_per_million\",\"total_tests_per_thousand\",\"new_tests_per_thousand\",\"new_tests_smoothed_per_thousand\",\"tests_units\",\"stringency_index\",\"population_density\",\"tests_per_case\"]"
   ]
  },
  {
   "cell_type": "code",
   "execution_count": 7,
   "metadata": {},
   "outputs": [],
   "source": [
    "df.drop(bucket,axis=1,inplace=True)"
   ]
  },
  {
   "cell_type": "code",
   "execution_count": 8,
   "metadata": {},
   "outputs": [],
   "source": [
    "df[\"smoker\"]=df[\"female_smokers\"]+df[\"male_smokers\"]"
   ]
  },
  {
   "cell_type": "code",
   "execution_count": 9,
   "metadata": {},
   "outputs": [
    {
     "data": {
      "text/plain": [
       "Index(['continent', 'location', 'date', 'total_cases', 'new_cases_smoothed',\n",
       "       'total_deaths', 'new_deaths_smoothed', 'total_tests',\n",
       "       'new_tests_smoothed', 'positive_rate', 'population', 'aged_65_older',\n",
       "       'gdp_per_capita', 'extreme_poverty', 'cardiovasc_death_rate',\n",
       "       'diabetes_prevalence', 'female_smokers', 'male_smokers',\n",
       "       'handwashing_facilities', 'hospital_beds_per_thousand',\n",
       "       'life_expectancy', 'human_development_index', 'smoker'],\n",
       "      dtype='object')"
      ]
     },
     "execution_count": 9,
     "metadata": {},
     "output_type": "execute_result"
    }
   ],
   "source": [
    "df.keys()"
   ]
  },
  {
   "cell_type": "markdown",
   "metadata": {},
   "source": [
    "Only collecting data upto location zimbabwe"
   ]
  },
  {
   "cell_type": "code",
   "execution_count": 10,
   "metadata": {},
   "outputs": [],
   "source": [
    "data=df.iloc[0:49512]"
   ]
  },
  {
   "cell_type": "code",
   "execution_count": 11,
   "metadata": {},
   "outputs": [
    {
     "data": {
      "text/html": [
       "<div>\n",
       "<style scoped>\n",
       "    .dataframe tbody tr th:only-of-type {\n",
       "        vertical-align: middle;\n",
       "    }\n",
       "\n",
       "    .dataframe tbody tr th {\n",
       "        vertical-align: top;\n",
       "    }\n",
       "\n",
       "    .dataframe thead th {\n",
       "        text-align: right;\n",
       "    }\n",
       "</style>\n",
       "<table border=\"1\" class=\"dataframe\">\n",
       "  <thead>\n",
       "    <tr style=\"text-align: right;\">\n",
       "      <th></th>\n",
       "      <th>continent</th>\n",
       "      <th>location</th>\n",
       "      <th>date</th>\n",
       "      <th>total_cases</th>\n",
       "      <th>new_cases_smoothed</th>\n",
       "      <th>total_deaths</th>\n",
       "      <th>new_deaths_smoothed</th>\n",
       "      <th>total_tests</th>\n",
       "      <th>new_tests_smoothed</th>\n",
       "      <th>positive_rate</th>\n",
       "      <th>...</th>\n",
       "      <th>extreme_poverty</th>\n",
       "      <th>cardiovasc_death_rate</th>\n",
       "      <th>diabetes_prevalence</th>\n",
       "      <th>female_smokers</th>\n",
       "      <th>male_smokers</th>\n",
       "      <th>handwashing_facilities</th>\n",
       "      <th>hospital_beds_per_thousand</th>\n",
       "      <th>life_expectancy</th>\n",
       "      <th>human_development_index</th>\n",
       "      <th>smoker</th>\n",
       "    </tr>\n",
       "  </thead>\n",
       "  <tbody>\n",
       "    <tr>\n",
       "      <th>0</th>\n",
       "      <td>Asia</td>\n",
       "      <td>Afghanistan</td>\n",
       "      <td>2019-12-31</td>\n",
       "      <td>0.0</td>\n",
       "      <td>NaN</td>\n",
       "      <td>0.0</td>\n",
       "      <td>NaN</td>\n",
       "      <td>NaN</td>\n",
       "      <td>NaN</td>\n",
       "      <td>NaN</td>\n",
       "      <td>...</td>\n",
       "      <td>NaN</td>\n",
       "      <td>597.029</td>\n",
       "      <td>9.59</td>\n",
       "      <td>NaN</td>\n",
       "      <td>NaN</td>\n",
       "      <td>37.746</td>\n",
       "      <td>0.5</td>\n",
       "      <td>64.83</td>\n",
       "      <td>0.498</td>\n",
       "      <td>NaN</td>\n",
       "    </tr>\n",
       "    <tr>\n",
       "      <th>1</th>\n",
       "      <td>Asia</td>\n",
       "      <td>Afghanistan</td>\n",
       "      <td>2020-01-01</td>\n",
       "      <td>0.0</td>\n",
       "      <td>NaN</td>\n",
       "      <td>0.0</td>\n",
       "      <td>NaN</td>\n",
       "      <td>NaN</td>\n",
       "      <td>NaN</td>\n",
       "      <td>NaN</td>\n",
       "      <td>...</td>\n",
       "      <td>NaN</td>\n",
       "      <td>597.029</td>\n",
       "      <td>9.59</td>\n",
       "      <td>NaN</td>\n",
       "      <td>NaN</td>\n",
       "      <td>37.746</td>\n",
       "      <td>0.5</td>\n",
       "      <td>64.83</td>\n",
       "      <td>0.498</td>\n",
       "      <td>NaN</td>\n",
       "    </tr>\n",
       "    <tr>\n",
       "      <th>2</th>\n",
       "      <td>Asia</td>\n",
       "      <td>Afghanistan</td>\n",
       "      <td>2020-01-02</td>\n",
       "      <td>0.0</td>\n",
       "      <td>NaN</td>\n",
       "      <td>0.0</td>\n",
       "      <td>NaN</td>\n",
       "      <td>NaN</td>\n",
       "      <td>NaN</td>\n",
       "      <td>NaN</td>\n",
       "      <td>...</td>\n",
       "      <td>NaN</td>\n",
       "      <td>597.029</td>\n",
       "      <td>9.59</td>\n",
       "      <td>NaN</td>\n",
       "      <td>NaN</td>\n",
       "      <td>37.746</td>\n",
       "      <td>0.5</td>\n",
       "      <td>64.83</td>\n",
       "      <td>0.498</td>\n",
       "      <td>NaN</td>\n",
       "    </tr>\n",
       "    <tr>\n",
       "      <th>3</th>\n",
       "      <td>Asia</td>\n",
       "      <td>Afghanistan</td>\n",
       "      <td>2020-01-03</td>\n",
       "      <td>0.0</td>\n",
       "      <td>NaN</td>\n",
       "      <td>0.0</td>\n",
       "      <td>NaN</td>\n",
       "      <td>NaN</td>\n",
       "      <td>NaN</td>\n",
       "      <td>NaN</td>\n",
       "      <td>...</td>\n",
       "      <td>NaN</td>\n",
       "      <td>597.029</td>\n",
       "      <td>9.59</td>\n",
       "      <td>NaN</td>\n",
       "      <td>NaN</td>\n",
       "      <td>37.746</td>\n",
       "      <td>0.5</td>\n",
       "      <td>64.83</td>\n",
       "      <td>0.498</td>\n",
       "      <td>NaN</td>\n",
       "    </tr>\n",
       "    <tr>\n",
       "      <th>4</th>\n",
       "      <td>Asia</td>\n",
       "      <td>Afghanistan</td>\n",
       "      <td>2020-01-04</td>\n",
       "      <td>0.0</td>\n",
       "      <td>NaN</td>\n",
       "      <td>0.0</td>\n",
       "      <td>NaN</td>\n",
       "      <td>NaN</td>\n",
       "      <td>NaN</td>\n",
       "      <td>NaN</td>\n",
       "      <td>...</td>\n",
       "      <td>NaN</td>\n",
       "      <td>597.029</td>\n",
       "      <td>9.59</td>\n",
       "      <td>NaN</td>\n",
       "      <td>NaN</td>\n",
       "      <td>37.746</td>\n",
       "      <td>0.5</td>\n",
       "      <td>64.83</td>\n",
       "      <td>0.498</td>\n",
       "      <td>NaN</td>\n",
       "    </tr>\n",
       "    <tr>\n",
       "      <th>...</th>\n",
       "      <td>...</td>\n",
       "      <td>...</td>\n",
       "      <td>...</td>\n",
       "      <td>...</td>\n",
       "      <td>...</td>\n",
       "      <td>...</td>\n",
       "      <td>...</td>\n",
       "      <td>...</td>\n",
       "      <td>...</td>\n",
       "      <td>...</td>\n",
       "      <td>...</td>\n",
       "      <td>...</td>\n",
       "      <td>...</td>\n",
       "      <td>...</td>\n",
       "      <td>...</td>\n",
       "      <td>...</td>\n",
       "      <td>...</td>\n",
       "      <td>...</td>\n",
       "      <td>...</td>\n",
       "      <td>...</td>\n",
       "      <td>...</td>\n",
       "    </tr>\n",
       "    <tr>\n",
       "      <th>49507</th>\n",
       "      <td>Africa</td>\n",
       "      <td>Zimbabwe</td>\n",
       "      <td>2020-10-10</td>\n",
       "      <td>7994.0</td>\n",
       "      <td>19.429</td>\n",
       "      <td>229.0</td>\n",
       "      <td>0.143</td>\n",
       "      <td>NaN</td>\n",
       "      <td>NaN</td>\n",
       "      <td>NaN</td>\n",
       "      <td>...</td>\n",
       "      <td>21.4</td>\n",
       "      <td>307.846</td>\n",
       "      <td>1.82</td>\n",
       "      <td>1.6</td>\n",
       "      <td>30.7</td>\n",
       "      <td>36.791</td>\n",
       "      <td>1.7</td>\n",
       "      <td>61.49</td>\n",
       "      <td>0.535</td>\n",
       "      <td>32.3</td>\n",
       "    </tr>\n",
       "    <tr>\n",
       "      <th>49508</th>\n",
       "      <td>Africa</td>\n",
       "      <td>Zimbabwe</td>\n",
       "      <td>2020-10-11</td>\n",
       "      <td>8010.0</td>\n",
       "      <td>17.857</td>\n",
       "      <td>230.0</td>\n",
       "      <td>0.286</td>\n",
       "      <td>NaN</td>\n",
       "      <td>NaN</td>\n",
       "      <td>NaN</td>\n",
       "      <td>...</td>\n",
       "      <td>21.4</td>\n",
       "      <td>307.846</td>\n",
       "      <td>1.82</td>\n",
       "      <td>1.6</td>\n",
       "      <td>30.7</td>\n",
       "      <td>36.791</td>\n",
       "      <td>1.7</td>\n",
       "      <td>61.49</td>\n",
       "      <td>0.535</td>\n",
       "      <td>32.3</td>\n",
       "    </tr>\n",
       "    <tr>\n",
       "      <th>49509</th>\n",
       "      <td>Africa</td>\n",
       "      <td>Zimbabwe</td>\n",
       "      <td>2020-10-12</td>\n",
       "      <td>8011.0</td>\n",
       "      <td>18.000</td>\n",
       "      <td>230.0</td>\n",
       "      <td>0.286</td>\n",
       "      <td>NaN</td>\n",
       "      <td>NaN</td>\n",
       "      <td>NaN</td>\n",
       "      <td>...</td>\n",
       "      <td>21.4</td>\n",
       "      <td>307.846</td>\n",
       "      <td>1.82</td>\n",
       "      <td>1.6</td>\n",
       "      <td>30.7</td>\n",
       "      <td>36.791</td>\n",
       "      <td>1.7</td>\n",
       "      <td>61.49</td>\n",
       "      <td>0.535</td>\n",
       "      <td>32.3</td>\n",
       "    </tr>\n",
       "    <tr>\n",
       "      <th>49510</th>\n",
       "      <td>Africa</td>\n",
       "      <td>Zimbabwe</td>\n",
       "      <td>2020-10-13</td>\n",
       "      <td>8021.0</td>\n",
       "      <td>17.571</td>\n",
       "      <td>230.0</td>\n",
       "      <td>0.286</td>\n",
       "      <td>NaN</td>\n",
       "      <td>NaN</td>\n",
       "      <td>NaN</td>\n",
       "      <td>...</td>\n",
       "      <td>21.4</td>\n",
       "      <td>307.846</td>\n",
       "      <td>1.82</td>\n",
       "      <td>1.6</td>\n",
       "      <td>30.7</td>\n",
       "      <td>36.791</td>\n",
       "      <td>1.7</td>\n",
       "      <td>61.49</td>\n",
       "      <td>0.535</td>\n",
       "      <td>32.3</td>\n",
       "    </tr>\n",
       "    <tr>\n",
       "      <th>49511</th>\n",
       "      <td>Africa</td>\n",
       "      <td>Zimbabwe</td>\n",
       "      <td>2020-10-14</td>\n",
       "      <td>8036.0</td>\n",
       "      <td>17.286</td>\n",
       "      <td>230.0</td>\n",
       "      <td>0.143</td>\n",
       "      <td>NaN</td>\n",
       "      <td>NaN</td>\n",
       "      <td>NaN</td>\n",
       "      <td>...</td>\n",
       "      <td>21.4</td>\n",
       "      <td>307.846</td>\n",
       "      <td>1.82</td>\n",
       "      <td>1.6</td>\n",
       "      <td>30.7</td>\n",
       "      <td>36.791</td>\n",
       "      <td>1.7</td>\n",
       "      <td>61.49</td>\n",
       "      <td>0.535</td>\n",
       "      <td>32.3</td>\n",
       "    </tr>\n",
       "  </tbody>\n",
       "</table>\n",
       "<p>49512 rows × 23 columns</p>\n",
       "</div>"
      ],
      "text/plain": [
       "      continent     location        date  total_cases  new_cases_smoothed  \\\n",
       "0          Asia  Afghanistan  2019-12-31          0.0                 NaN   \n",
       "1          Asia  Afghanistan  2020-01-01          0.0                 NaN   \n",
       "2          Asia  Afghanistan  2020-01-02          0.0                 NaN   \n",
       "3          Asia  Afghanistan  2020-01-03          0.0                 NaN   \n",
       "4          Asia  Afghanistan  2020-01-04          0.0                 NaN   \n",
       "...         ...          ...         ...          ...                 ...   \n",
       "49507    Africa     Zimbabwe  2020-10-10       7994.0              19.429   \n",
       "49508    Africa     Zimbabwe  2020-10-11       8010.0              17.857   \n",
       "49509    Africa     Zimbabwe  2020-10-12       8011.0              18.000   \n",
       "49510    Africa     Zimbabwe  2020-10-13       8021.0              17.571   \n",
       "49511    Africa     Zimbabwe  2020-10-14       8036.0              17.286   \n",
       "\n",
       "       total_deaths  new_deaths_smoothed  total_tests  new_tests_smoothed  \\\n",
       "0               0.0                  NaN          NaN                 NaN   \n",
       "1               0.0                  NaN          NaN                 NaN   \n",
       "2               0.0                  NaN          NaN                 NaN   \n",
       "3               0.0                  NaN          NaN                 NaN   \n",
       "4               0.0                  NaN          NaN                 NaN   \n",
       "...             ...                  ...          ...                 ...   \n",
       "49507         229.0                0.143          NaN                 NaN   \n",
       "49508         230.0                0.286          NaN                 NaN   \n",
       "49509         230.0                0.286          NaN                 NaN   \n",
       "49510         230.0                0.286          NaN                 NaN   \n",
       "49511         230.0                0.143          NaN                 NaN   \n",
       "\n",
       "       positive_rate  ...  extreme_poverty  cardiovasc_death_rate  \\\n",
       "0                NaN  ...              NaN                597.029   \n",
       "1                NaN  ...              NaN                597.029   \n",
       "2                NaN  ...              NaN                597.029   \n",
       "3                NaN  ...              NaN                597.029   \n",
       "4                NaN  ...              NaN                597.029   \n",
       "...              ...  ...              ...                    ...   \n",
       "49507            NaN  ...             21.4                307.846   \n",
       "49508            NaN  ...             21.4                307.846   \n",
       "49509            NaN  ...             21.4                307.846   \n",
       "49510            NaN  ...             21.4                307.846   \n",
       "49511            NaN  ...             21.4                307.846   \n",
       "\n",
       "       diabetes_prevalence  female_smokers  male_smokers  \\\n",
       "0                     9.59             NaN           NaN   \n",
       "1                     9.59             NaN           NaN   \n",
       "2                     9.59             NaN           NaN   \n",
       "3                     9.59             NaN           NaN   \n",
       "4                     9.59             NaN           NaN   \n",
       "...                    ...             ...           ...   \n",
       "49507                 1.82             1.6          30.7   \n",
       "49508                 1.82             1.6          30.7   \n",
       "49509                 1.82             1.6          30.7   \n",
       "49510                 1.82             1.6          30.7   \n",
       "49511                 1.82             1.6          30.7   \n",
       "\n",
       "       handwashing_facilities  hospital_beds_per_thousand  life_expectancy  \\\n",
       "0                      37.746                         0.5            64.83   \n",
       "1                      37.746                         0.5            64.83   \n",
       "2                      37.746                         0.5            64.83   \n",
       "3                      37.746                         0.5            64.83   \n",
       "4                      37.746                         0.5            64.83   \n",
       "...                       ...                         ...              ...   \n",
       "49507                  36.791                         1.7            61.49   \n",
       "49508                  36.791                         1.7            61.49   \n",
       "49509                  36.791                         1.7            61.49   \n",
       "49510                  36.791                         1.7            61.49   \n",
       "49511                  36.791                         1.7            61.49   \n",
       "\n",
       "       human_development_index  smoker  \n",
       "0                        0.498     NaN  \n",
       "1                        0.498     NaN  \n",
       "2                        0.498     NaN  \n",
       "3                        0.498     NaN  \n",
       "4                        0.498     NaN  \n",
       "...                        ...     ...  \n",
       "49507                    0.535    32.3  \n",
       "49508                    0.535    32.3  \n",
       "49509                    0.535    32.3  \n",
       "49510                    0.535    32.3  \n",
       "49511                    0.535    32.3  \n",
       "\n",
       "[49512 rows x 23 columns]"
      ]
     },
     "execution_count": 11,
     "metadata": {},
     "output_type": "execute_result"
    }
   ],
   "source": [
    "data"
   ]
  },
  {
   "cell_type": "code",
   "execution_count": 12,
   "metadata": {},
   "outputs": [
    {
     "data": {
      "text/html": [
       "<div>\n",
       "<style scoped>\n",
       "    .dataframe tbody tr th:only-of-type {\n",
       "        vertical-align: middle;\n",
       "    }\n",
       "\n",
       "    .dataframe tbody tr th {\n",
       "        vertical-align: top;\n",
       "    }\n",
       "\n",
       "    .dataframe thead th {\n",
       "        text-align: right;\n",
       "    }\n",
       "</style>\n",
       "<table border=\"1\" class=\"dataframe\">\n",
       "  <thead>\n",
       "    <tr style=\"text-align: right;\">\n",
       "      <th></th>\n",
       "      <th>total_cases</th>\n",
       "      <th>new_cases_smoothed</th>\n",
       "      <th>total_deaths</th>\n",
       "      <th>new_deaths_smoothed</th>\n",
       "      <th>total_tests</th>\n",
       "      <th>new_tests_smoothed</th>\n",
       "      <th>positive_rate</th>\n",
       "      <th>population</th>\n",
       "      <th>aged_65_older</th>\n",
       "      <th>gdp_per_capita</th>\n",
       "      <th>extreme_poverty</th>\n",
       "      <th>cardiovasc_death_rate</th>\n",
       "      <th>diabetes_prevalence</th>\n",
       "      <th>female_smokers</th>\n",
       "      <th>male_smokers</th>\n",
       "      <th>handwashing_facilities</th>\n",
       "      <th>hospital_beds_per_thousand</th>\n",
       "      <th>life_expectancy</th>\n",
       "      <th>human_development_index</th>\n",
       "      <th>smoker</th>\n",
       "    </tr>\n",
       "  </thead>\n",
       "  <tbody>\n",
       "    <tr>\n",
       "      <th>count</th>\n",
       "      <td>4.887600e+04</td>\n",
       "      <td>48099.000000</td>\n",
       "      <td>48876.000000</td>\n",
       "      <td>48099.000000</td>\n",
       "      <td>1.846600e+04</td>\n",
       "      <td>2.043100e+04</td>\n",
       "      <td>19271.000000</td>\n",
       "      <td>4.951200e+04</td>\n",
       "      <td>43676.000000</td>\n",
       "      <td>43758.000000</td>\n",
       "      <td>29085.000000</td>\n",
       "      <td>44330.000000</td>\n",
       "      <td>45932.000000</td>\n",
       "      <td>34596.000000</td>\n",
       "      <td>34151.000000</td>\n",
       "      <td>20674.000000</td>\n",
       "      <td>39974.000000</td>\n",
       "      <td>48879.000000</td>\n",
       "      <td>43063.000000</td>\n",
       "      <td>34151.000000</td>\n",
       "    </tr>\n",
       "    <tr>\n",
       "      <th>mean</th>\n",
       "      <td>5.994864e+04</td>\n",
       "      <td>774.192377</td>\n",
       "      <td>2277.792393</td>\n",
       "      <td>22.291739</td>\n",
       "      <td>1.736558e+06</td>\n",
       "      <td>2.389421e+04</td>\n",
       "      <td>0.064744</td>\n",
       "      <td>4.250274e+07</td>\n",
       "      <td>9.237833</td>\n",
       "      <td>20855.699146</td>\n",
       "      <td>12.242561</td>\n",
       "      <td>251.967077</td>\n",
       "      <td>8.047611</td>\n",
       "      <td>10.825321</td>\n",
       "      <td>32.618770</td>\n",
       "      <td>52.215298</td>\n",
       "      <td>3.107367</td>\n",
       "      <td>74.004821</td>\n",
       "      <td>0.724058</td>\n",
       "      <td>43.540230</td>\n",
       "    </tr>\n",
       "    <tr>\n",
       "      <th>std</th>\n",
       "      <td>3.780686e+05</td>\n",
       "      <td>4581.554413</td>\n",
       "      <td>12045.673475</td>\n",
       "      <td>116.124261</td>\n",
       "      <td>7.831773e+06</td>\n",
       "      <td>9.350538e+04</td>\n",
       "      <td>0.090179</td>\n",
       "      <td>1.565386e+08</td>\n",
       "      <td>6.332111</td>\n",
       "      <td>20457.797612</td>\n",
       "      <td>19.390688</td>\n",
       "      <td>117.816539</td>\n",
       "      <td>4.164463</td>\n",
       "      <td>10.511434</td>\n",
       "      <td>13.485649</td>\n",
       "      <td>31.831164</td>\n",
       "      <td>2.531417</td>\n",
       "      <td>7.404264</td>\n",
       "      <td>0.152993</td>\n",
       "      <td>18.522101</td>\n",
       "    </tr>\n",
       "    <tr>\n",
       "      <th>min</th>\n",
       "      <td>0.000000e+00</td>\n",
       "      <td>-552.000000</td>\n",
       "      <td>0.000000</td>\n",
       "      <td>-232.143000</td>\n",
       "      <td>1.000000e+00</td>\n",
       "      <td>0.000000e+00</td>\n",
       "      <td>0.000000</td>\n",
       "      <td>8.090000e+02</td>\n",
       "      <td>1.144000</td>\n",
       "      <td>661.240000</td>\n",
       "      <td>0.100000</td>\n",
       "      <td>79.370000</td>\n",
       "      <td>0.990000</td>\n",
       "      <td>0.100000</td>\n",
       "      <td>7.700000</td>\n",
       "      <td>1.188000</td>\n",
       "      <td>0.100000</td>\n",
       "      <td>53.280000</td>\n",
       "      <td>0.354000</td>\n",
       "      <td>8.000000</td>\n",
       "    </tr>\n",
       "    <tr>\n",
       "      <th>25%</th>\n",
       "      <td>7.000000e+01</td>\n",
       "      <td>0.714000</td>\n",
       "      <td>1.000000</td>\n",
       "      <td>0.000000</td>\n",
       "      <td>4.938250e+04</td>\n",
       "      <td>1.081000e+03</td>\n",
       "      <td>0.009000</td>\n",
       "      <td>1.399491e+06</td>\n",
       "      <td>3.552000</td>\n",
       "      <td>5338.454000</td>\n",
       "      <td>0.500000</td>\n",
       "      <td>155.898000</td>\n",
       "      <td>5.310000</td>\n",
       "      <td>1.900000</td>\n",
       "      <td>21.400000</td>\n",
       "      <td>20.859000</td>\n",
       "      <td>1.300000</td>\n",
       "      <td>69.870000</td>\n",
       "      <td>0.606000</td>\n",
       "      <td>28.000000</td>\n",
       "    </tr>\n",
       "    <tr>\n",
       "      <th>50%</th>\n",
       "      <td>1.197000e+03</td>\n",
       "      <td>16.000000</td>\n",
       "      <td>24.000000</td>\n",
       "      <td>0.286000</td>\n",
       "      <td>2.210070e+05</td>\n",
       "      <td>3.819000e+03</td>\n",
       "      <td>0.029000</td>\n",
       "      <td>8.278737e+06</td>\n",
       "      <td>6.981000</td>\n",
       "      <td>14048.881000</td>\n",
       "      <td>1.800000</td>\n",
       "      <td>240.208000</td>\n",
       "      <td>7.110000</td>\n",
       "      <td>6.300000</td>\n",
       "      <td>31.400000</td>\n",
       "      <td>52.232000</td>\n",
       "      <td>2.500000</td>\n",
       "      <td>75.490000</td>\n",
       "      <td>0.754000</td>\n",
       "      <td>43.700000</td>\n",
       "    </tr>\n",
       "    <tr>\n",
       "      <th>75%</th>\n",
       "      <td>1.304500e+04</td>\n",
       "      <td>180.714000</td>\n",
       "      <td>272.000000</td>\n",
       "      <td>3.143000</td>\n",
       "      <td>8.702432e+05</td>\n",
       "      <td>1.348650e+04</td>\n",
       "      <td>0.084000</td>\n",
       "      <td>2.913681e+07</td>\n",
       "      <td>14.762000</td>\n",
       "      <td>32415.132000</td>\n",
       "      <td>18.100000</td>\n",
       "      <td>318.991000</td>\n",
       "      <td>10.390000</td>\n",
       "      <td>19.600000</td>\n",
       "      <td>40.900000</td>\n",
       "      <td>83.741000</td>\n",
       "      <td>4.200000</td>\n",
       "      <td>79.380000</td>\n",
       "      <td>0.847000</td>\n",
       "      <td>56.500000</td>\n",
       "    </tr>\n",
       "    <tr>\n",
       "      <th>max</th>\n",
       "      <td>7.856714e+06</td>\n",
       "      <td>93198.571000</td>\n",
       "      <td>215902.000000</td>\n",
       "      <td>2715.143000</td>\n",
       "      <td>1.261239e+08</td>\n",
       "      <td>1.169107e+06</td>\n",
       "      <td>0.690000</td>\n",
       "      <td>1.439324e+09</td>\n",
       "      <td>27.049000</td>\n",
       "      <td>116935.600000</td>\n",
       "      <td>77.600000</td>\n",
       "      <td>724.417000</td>\n",
       "      <td>23.360000</td>\n",
       "      <td>44.000000</td>\n",
       "      <td>78.100000</td>\n",
       "      <td>98.999000</td>\n",
       "      <td>13.800000</td>\n",
       "      <td>86.750000</td>\n",
       "      <td>0.953000</td>\n",
       "      <td>91.900000</td>\n",
       "    </tr>\n",
       "  </tbody>\n",
       "</table>\n",
       "</div>"
      ],
      "text/plain": [
       "        total_cases  new_cases_smoothed   total_deaths  new_deaths_smoothed  \\\n",
       "count  4.887600e+04        48099.000000   48876.000000         48099.000000   \n",
       "mean   5.994864e+04          774.192377    2277.792393            22.291739   \n",
       "std    3.780686e+05         4581.554413   12045.673475           116.124261   \n",
       "min    0.000000e+00         -552.000000       0.000000          -232.143000   \n",
       "25%    7.000000e+01            0.714000       1.000000             0.000000   \n",
       "50%    1.197000e+03           16.000000      24.000000             0.286000   \n",
       "75%    1.304500e+04          180.714000     272.000000             3.143000   \n",
       "max    7.856714e+06        93198.571000  215902.000000          2715.143000   \n",
       "\n",
       "        total_tests  new_tests_smoothed  positive_rate    population  \\\n",
       "count  1.846600e+04        2.043100e+04   19271.000000  4.951200e+04   \n",
       "mean   1.736558e+06        2.389421e+04       0.064744  4.250274e+07   \n",
       "std    7.831773e+06        9.350538e+04       0.090179  1.565386e+08   \n",
       "min    1.000000e+00        0.000000e+00       0.000000  8.090000e+02   \n",
       "25%    4.938250e+04        1.081000e+03       0.009000  1.399491e+06   \n",
       "50%    2.210070e+05        3.819000e+03       0.029000  8.278737e+06   \n",
       "75%    8.702432e+05        1.348650e+04       0.084000  2.913681e+07   \n",
       "max    1.261239e+08        1.169107e+06       0.690000  1.439324e+09   \n",
       "\n",
       "       aged_65_older  gdp_per_capita  extreme_poverty  cardiovasc_death_rate  \\\n",
       "count   43676.000000    43758.000000     29085.000000           44330.000000   \n",
       "mean        9.237833    20855.699146        12.242561             251.967077   \n",
       "std         6.332111    20457.797612        19.390688             117.816539   \n",
       "min         1.144000      661.240000         0.100000              79.370000   \n",
       "25%         3.552000     5338.454000         0.500000             155.898000   \n",
       "50%         6.981000    14048.881000         1.800000             240.208000   \n",
       "75%        14.762000    32415.132000        18.100000             318.991000   \n",
       "max        27.049000   116935.600000        77.600000             724.417000   \n",
       "\n",
       "       diabetes_prevalence  female_smokers  male_smokers  \\\n",
       "count         45932.000000    34596.000000  34151.000000   \n",
       "mean              8.047611       10.825321     32.618770   \n",
       "std               4.164463       10.511434     13.485649   \n",
       "min               0.990000        0.100000      7.700000   \n",
       "25%               5.310000        1.900000     21.400000   \n",
       "50%               7.110000        6.300000     31.400000   \n",
       "75%              10.390000       19.600000     40.900000   \n",
       "max              23.360000       44.000000     78.100000   \n",
       "\n",
       "       handwashing_facilities  hospital_beds_per_thousand  life_expectancy  \\\n",
       "count            20674.000000                39974.000000     48879.000000   \n",
       "mean                52.215298                    3.107367        74.004821   \n",
       "std                 31.831164                    2.531417         7.404264   \n",
       "min                  1.188000                    0.100000        53.280000   \n",
       "25%                 20.859000                    1.300000        69.870000   \n",
       "50%                 52.232000                    2.500000        75.490000   \n",
       "75%                 83.741000                    4.200000        79.380000   \n",
       "max                 98.999000                   13.800000        86.750000   \n",
       "\n",
       "       human_development_index        smoker  \n",
       "count             43063.000000  34151.000000  \n",
       "mean                  0.724058     43.540230  \n",
       "std                   0.152993     18.522101  \n",
       "min                   0.354000      8.000000  \n",
       "25%                   0.606000     28.000000  \n",
       "50%                   0.754000     43.700000  \n",
       "75%                   0.847000     56.500000  \n",
       "max                   0.953000     91.900000  "
      ]
     },
     "execution_count": 12,
     "metadata": {},
     "output_type": "execute_result"
    }
   ],
   "source": [
    "data.describe()"
   ]
  },
  {
   "cell_type": "markdown",
   "metadata": {},
   "source": []
  },
  {
   "cell_type": "code",
   "execution_count": 13,
   "metadata": {},
   "outputs": [
    {
     "data": {
      "text/plain": [
       "continent                         0\n",
       "location                          0\n",
       "date                              0\n",
       "total_cases                     636\n",
       "new_cases_smoothed             1413\n",
       "total_deaths                    636\n",
       "new_deaths_smoothed            1413\n",
       "total_tests                   31046\n",
       "new_tests_smoothed            29081\n",
       "positive_rate                 30241\n",
       "population                        0\n",
       "aged_65_older                  5836\n",
       "gdp_per_capita                 5754\n",
       "extreme_poverty               20427\n",
       "cardiovasc_death_rate          5182\n",
       "diabetes_prevalence            3580\n",
       "female_smokers                14916\n",
       "male_smokers                  15361\n",
       "handwashing_facilities        28838\n",
       "hospital_beds_per_thousand     9538\n",
       "life_expectancy                 633\n",
       "human_development_index        6449\n",
       "smoker                        15361\n",
       "dtype: int64"
      ]
     },
     "execution_count": 13,
     "metadata": {},
     "output_type": "execute_result"
    }
   ],
   "source": [
    "data.isna().sum()"
   ]
  },
  {
   "cell_type": "code",
   "execution_count": 14,
   "metadata": {},
   "outputs": [
    {
     "data": {
      "text/plain": [
       "Index(['continent', 'location', 'date', 'total_cases', 'new_cases_smoothed',\n",
       "       'total_deaths', 'new_deaths_smoothed', 'total_tests',\n",
       "       'new_tests_smoothed', 'positive_rate', 'population', 'aged_65_older',\n",
       "       'gdp_per_capita', 'extreme_poverty', 'cardiovasc_death_rate',\n",
       "       'diabetes_prevalence', 'female_smokers', 'male_smokers',\n",
       "       'handwashing_facilities', 'hospital_beds_per_thousand',\n",
       "       'life_expectancy', 'human_development_index', 'smoker'],\n",
       "      dtype='object')"
      ]
     },
     "execution_count": 14,
     "metadata": {},
     "output_type": "execute_result"
    }
   ],
   "source": [
    "data.columns"
   ]
  },
  {
   "cell_type": "code",
   "execution_count": 15,
   "metadata": {},
   "outputs": [
    {
     "name": "stderr",
     "output_type": "stream",
     "text": [
      "/home/ec2-user/anaconda3/envs/python3/lib/python3.6/site-packages/pandas/core/frame.py:2963: SettingWithCopyWarning: \n",
      "A value is trying to be set on a copy of a slice from a DataFrame.\n",
      "Try using .loc[row_indexer,col_indexer] = value instead\n",
      "\n",
      "See the caveats in the documentation: https://pandas.pydata.org/pandas-docs/stable/user_guide/indexing.html#returning-a-view-versus-a-copy\n",
      "  self[k1] = value[k2]\n"
     ]
    }
   ],
   "source": [
    "new_columns = data.columns[list(map(lambda x:\"new\" in x,data.columns))]\n",
    "data[new_columns]=data[new_columns].fillna(0)"
   ]
  },
  {
   "cell_type": "markdown",
   "metadata": {},
   "source": [
    "TAking care of nan Values replacing it with Forward fill and zero \n",
    "> For features like total cases, we fill the null values with its previous values \n",
    "> For features like new cases and others, we simply fill null as 0 cause any other options are not suitable to implement and also the data are not affected."
   ]
  },
  {
   "cell_type": "code",
   "execution_count": 16,
   "metadata": {},
   "outputs": [],
   "source": [
    "new_columns = data.columns[list(map(lambda x:\"total\" in x,data.columns))]\n",
    "data[new_columns]=data[new_columns].fillna(method='ffill').fillna(0)"
   ]
  },
  {
   "cell_type": "code",
   "execution_count": 17,
   "metadata": {},
   "outputs": [
    {
     "name": "stderr",
     "output_type": "stream",
     "text": [
      "/home/ec2-user/anaconda3/envs/python3/lib/python3.6/site-packages/pandas/core/frame.py:3997: SettingWithCopyWarning: \n",
      "A value is trying to be set on a copy of a slice from a DataFrame\n",
      "\n",
      "See the caveats in the documentation: https://pandas.pydata.org/pandas-docs/stable/user_guide/indexing.html#returning-a-view-versus-a-copy\n",
      "  errors=errors,\n"
     ]
    }
   ],
   "source": [
    "data.drop([\"female_smokers\",\"male_smokers\"], axis=1, inplace=True)"
   ]
  },
  {
   "cell_type": "code",
   "execution_count": 18,
   "metadata": {},
   "outputs": [],
   "source": [
    "misc=[\"positive_rate\",\"aged_65_older\",\"cardiovasc_death_rate\",\"extreme_poverty\",\"diabetes_prevalence\",\"smoker\",\"handwashing_facilities\",\"hospital_beds_per_thousand\"]\n"
   ]
  },
  {
   "cell_type": "code",
   "execution_count": 19,
   "metadata": {},
   "outputs": [],
   "source": [
    "data[misc]=data[misc].fillna(0)"
   ]
  },
  {
   "cell_type": "code",
   "execution_count": 20,
   "metadata": {},
   "outputs": [],
   "source": [
    "miscc=[\"gdp_per_capita\",\"life_expectancy\",\"human_development_index\"]"
   ]
  },
  {
   "cell_type": "code",
   "execution_count": 21,
   "metadata": {},
   "outputs": [],
   "source": [
    "data[miscc]=data[miscc].fillna(0)"
   ]
  },
  {
   "cell_type": "code",
   "execution_count": 22,
   "metadata": {},
   "outputs": [
    {
     "data": {
      "text/plain": [
       "continent                     0\n",
       "location                      0\n",
       "date                          0\n",
       "total_cases                   0\n",
       "new_cases_smoothed            0\n",
       "total_deaths                  0\n",
       "new_deaths_smoothed           0\n",
       "total_tests                   0\n",
       "new_tests_smoothed            0\n",
       "positive_rate                 0\n",
       "population                    0\n",
       "aged_65_older                 0\n",
       "gdp_per_capita                0\n",
       "extreme_poverty               0\n",
       "cardiovasc_death_rate         0\n",
       "diabetes_prevalence           0\n",
       "handwashing_facilities        0\n",
       "hospital_beds_per_thousand    0\n",
       "life_expectancy               0\n",
       "human_development_index       0\n",
       "smoker                        0\n",
       "dtype: int64"
      ]
     },
     "execution_count": 22,
     "metadata": {},
     "output_type": "execute_result"
    }
   ],
   "source": [
    "data.isna().sum()"
   ]
  },
  {
   "cell_type": "markdown",
   "metadata": {},
   "source": [
    "# Visualization"
   ]
  },
  {
   "cell_type": "code",
   "execution_count": 23,
   "metadata": {},
   "outputs": [],
   "source": [
    "#data.style.background_gradient(cmap='Reds')[:10]"
   ]
  },
  {
   "cell_type": "code",
   "execution_count": 24,
   "metadata": {},
   "outputs": [
    {
     "data": {
      "image/png": "[encoded data removed]",
      "text/plain": [
       "<Figure size 720x504 with 1 Axes>"
      ]
     },
     "metadata": {
      "needs_background": "light"
     },
     "output_type": "display_data"
    }
   ],
   "source": [
    "plt.figure(figsize=(10,7))\n",
    "plt.bar(x=data[\"continent\"], height=data[\"total_deaths\"], data=data)\n",
    "plt.xlabel(\"Continent\")\n",
    "plt.ylabel(\"Total deaths\")\n",
    "plt.show()"
   ]
  },
  {
   "cell_type": "markdown",
   "metadata": {},
   "source": [
    "From bar graph, we can see that the most deaths due to covid 19 has been reported in North America and least deaths were reported in Oceania."
   ]
  },
  {
   "cell_type": "code",
   "execution_count": 25,
   "metadata": {},
   "outputs": [
    {
     "data": {
      "image/png": "[encoded data removed]",
      "text/plain": [
       "<Figure size 720x504 with 1 Axes>"
      ]
     },
     "metadata": {
      "needs_background": "light"
     },
     "output_type": "display_data"
    }
   ],
   "source": [
    "plt.figure(figsize=(10,7))\n",
    "plt.bar(x=data[\"continent\"], height=data[\"positive_rate\"], data=data)\n",
    "plt.xticks(rotation=\"45\")\n",
    "plt.xlabel(\"Continent\")\n",
    "plt.ylabel(\"Positive rates\")\n",
    "plt.show()"
   ]
  },
  {
   "cell_type": "markdown",
   "metadata": {},
   "source": [
    "From bar graph, we can see that positive rates of covid 19 were highest in South America and least positive rates were reported in Oceania."
   ]
  },
  {
   "cell_type": "code",
   "execution_count": 26,
   "metadata": {},
   "outputs": [],
   "source": [
    "a=data.drop([\"continent\",\"location\",\"date\"],axis=1)"
   ]
  },
  {
   "cell_type": "markdown",
   "metadata": {},
   "source": [
    " Now, data should be Scaled/Standarize becacause that they helps to normalise the data within a particular range and also helps in speeding up the calculations in an algorithm. Here, we scale our data using Standard Scaler which is in sklearn.preprocessing."
   ]
  },
  {
   "cell_type": "code",
   "execution_count": 27,
   "metadata": {},
   "outputs": [],
   "source": [
    "from sklearn.preprocessing import StandardScaler"
   ]
  },
  {
   "cell_type": "code",
   "execution_count": 28,
   "metadata": {},
   "outputs": [],
   "source": [
    "scaler= StandardScaler()\n",
    "scaled_a = scaler.fit_transform(a)"
   ]
  },
  {
   "cell_type": "code",
   "execution_count": 29,
   "metadata": {},
   "outputs": [
    {
     "name": "stderr",
     "output_type": "stream",
     "text": [
      "/home/ec2-user/anaconda3/envs/python3/lib/python3.6/site-packages/ipykernel/__main__.py:1: SettingWithCopyWarning: \n",
      "A value is trying to be set on a copy of a slice from a DataFrame.\n",
      "Try using .loc[row_indexer,col_indexer] = value instead\n",
      "\n",
      "See the caveats in the documentation: https://pandas.pydata.org/pandas-docs/stable/user_guide/indexing.html#returning-a-view-versus-a-copy\n",
      "  if __name__ == '__main__':\n",
      "/home/ec2-user/anaconda3/envs/python3/lib/python3.6/site-packages/pandas/core/indexing.py:965: SettingWithCopyWarning: \n",
      "A value is trying to be set on a copy of a slice from a DataFrame.\n",
      "Try using .loc[row_indexer,col_indexer] = value instead\n",
      "\n",
      "See the caveats in the documentation: https://pandas.pydata.org/pandas-docs/stable/user_guide/indexing.html#returning-a-view-versus-a-copy\n",
      "  self.obj[item] = s\n"
     ]
    }
   ],
   "source": [
    "data[a.columns]=scaled_a"
   ]
  },
  {
   "cell_type": "code",
   "execution_count": 30,
   "metadata": {},
   "outputs": [],
   "source": [
    "locate= data.groupby('location').max().sort_values('total_cases',ascending=False)[:10]"
   ]
  },
  {
   "cell_type": "markdown",
   "metadata": {},
   "source": [
    "Top 10 most infected countries were displayed using groupby."
   ]
  },
  {
   "cell_type": "code",
   "execution_count": 31,
   "metadata": {},
   "outputs": [],
   "source": [
    "locate.reset_index(inplace=True)"
   ]
  },
  {
   "cell_type": "code",
   "execution_count": 32,
   "metadata": {},
   "outputs": [
    {
     "data": {
      "text/html": [
       "<div>\n",
       "<style scoped>\n",
       "    .dataframe tbody tr th:only-of-type {\n",
       "        vertical-align: middle;\n",
       "    }\n",
       "\n",
       "    .dataframe tbody tr th {\n",
       "        vertical-align: top;\n",
       "    }\n",
       "\n",
       "    .dataframe thead th {\n",
       "        text-align: right;\n",
       "    }\n",
       "</style>\n",
       "<table border=\"1\" class=\"dataframe\">\n",
       "  <thead>\n",
       "    <tr style=\"text-align: right;\">\n",
       "      <th></th>\n",
       "      <th>location</th>\n",
       "      <th>continent</th>\n",
       "      <th>date</th>\n",
       "      <th>total_cases</th>\n",
       "      <th>new_cases_smoothed</th>\n",
       "      <th>total_deaths</th>\n",
       "      <th>new_deaths_smoothed</th>\n",
       "      <th>total_tests</th>\n",
       "      <th>new_tests_smoothed</th>\n",
       "      <th>positive_rate</th>\n",
       "      <th>...</th>\n",
       "      <th>aged_65_older</th>\n",
       "      <th>gdp_per_capita</th>\n",
       "      <th>extreme_poverty</th>\n",
       "      <th>cardiovasc_death_rate</th>\n",
       "      <th>diabetes_prevalence</th>\n",
       "      <th>handwashing_facilities</th>\n",
       "      <th>hospital_beds_per_thousand</th>\n",
       "      <th>life_expectancy</th>\n",
       "      <th>human_development_index</th>\n",
       "      <th>smoker</th>\n",
       "    </tr>\n",
       "  </thead>\n",
       "  <tbody>\n",
       "    <tr>\n",
       "      <th>0</th>\n",
       "      <td>United States</td>\n",
       "      <td>North America</td>\n",
       "      <td>2020-10-14</td>\n",
       "      <td>20.754693</td>\n",
       "      <td>14.747426</td>\n",
       "      <td>17.848185</td>\n",
       "      <td>23.520983</td>\n",
       "      <td>11.863473</td>\n",
       "      <td>16.347179</td>\n",
       "      <td>2.833669</td>\n",
       "      <td>...</td>\n",
       "      <td>1.092097</td>\n",
       "      <td>1.757988</td>\n",
       "      <td>-0.373613</td>\n",
       "      <td>-0.549616</td>\n",
       "      <td>0.735419</td>\n",
       "      <td>-0.661561</td>\n",
       "      <td>0.101112</td>\n",
       "      <td>0.522568</td>\n",
       "      <td>1.041974</td>\n",
       "      <td>0.539306</td>\n",
       "    </tr>\n",
       "    <tr>\n",
       "      <th>1</th>\n",
       "      <td>India</td>\n",
       "      <td>Asia</td>\n",
       "      <td>2020-10-14</td>\n",
       "      <td>19.111525</td>\n",
       "      <td>20.464085</td>\n",
       "      <td>9.050137</td>\n",
       "      <td>10.010497</td>\n",
       "      <td>8.297587</td>\n",
       "      <td>18.940322</td>\n",
       "      <td>1.516046</td>\n",
       "      <td>...</td>\n",
       "      <td>-0.324736</td>\n",
       "      <td>-0.589637</td>\n",
       "      <td>0.873490</td>\n",
       "      <td>0.418144</td>\n",
       "      <td>0.646929</td>\n",
       "      <td>1.145364</td>\n",
       "      <td>-0.765879</td>\n",
       "      <td>-0.306145</td>\n",
       "      <td>0.036303</td>\n",
       "      <td>-0.297192</td>\n",
       "    </tr>\n",
       "    <tr>\n",
       "      <th>2</th>\n",
       "      <td>Brazil</td>\n",
       "      <td>South America</td>\n",
       "      <td>2020-10-14</td>\n",
       "      <td>13.453268</td>\n",
       "      <td>10.103136</td>\n",
       "      <td>12.426136</td>\n",
       "      <td>9.387989</td>\n",
       "      <td>0.382589</td>\n",
       "      <td>1.445270</td>\n",
       "      <td>-0.390633</td>\n",
       "      <td>...</td>\n",
       "      <td>0.060593</td>\n",
       "      <td>-0.212594</td>\n",
       "      <td>-0.236431</td>\n",
       "      <td>-0.351389</td>\n",
       "      <td>0.142531</td>\n",
       "      <td>-0.661561</td>\n",
       "      <td>-0.119507</td>\n",
       "      <td>0.254137</td>\n",
       "      <td>0.457693</td>\n",
       "      <td>-0.080176</td>\n",
       "    </tr>\n",
       "    <tr>\n",
       "      <th>3</th>\n",
       "      <td>Russia</td>\n",
       "      <td>Europe</td>\n",
       "      <td>2020-10-14</td>\n",
       "      <td>3.372000</td>\n",
       "      <td>2.637658</td>\n",
       "      <td>1.730404</td>\n",
       "      <td>1.436393</td>\n",
       "      <td>4.676550</td>\n",
       "      <td>7.188797</td>\n",
       "      <td>0.477449</td>\n",
       "      <td>...</td>\n",
       "      <td>0.906423</td>\n",
       "      <td>0.311092</td>\n",
       "      <td>-0.442203</td>\n",
       "      <td>1.517401</td>\n",
       "      <td>-0.284436</td>\n",
       "      <td>-0.661561</td>\n",
       "      <td>2.144732</td>\n",
       "      <td>-0.043119</td>\n",
       "      <td>0.659536</td>\n",
       "      <td>2.038691</td>\n",
       "    </tr>\n",
       "    <tr>\n",
       "      <th>4</th>\n",
       "      <td>Colombia</td>\n",
       "      <td>South America</td>\n",
       "      <td>2020-10-14</td>\n",
       "      <td>2.301761</td>\n",
       "      <td>2.390271</td>\n",
       "      <td>2.162721</td>\n",
       "      <td>2.661446</td>\n",
       "      <td>0.117843</td>\n",
       "      <td>0.466481</td>\n",
       "      <td>-0.390633</td>\n",
       "      <td>...</td>\n",
       "      <td>-0.075617</td>\n",
       "      <td>-0.254268</td>\n",
       "      <td>-0.167841</td>\n",
       "      <td>-0.747674</td>\n",
       "      <td>-0.005691</td>\n",
       "      <td>1.322445</td>\n",
       "      <td>-0.309161</td>\n",
       "      <td>0.381146</td>\n",
       "      <td>0.415200</td>\n",
       "      <td>-0.466859</td>\n",
       "    </tr>\n",
       "    <tr>\n",
       "      <th>5</th>\n",
       "      <td>Argentina</td>\n",
       "      <td>South America</td>\n",
       "      <td>2020-10-14</td>\n",
       "      <td>2.282926</td>\n",
       "      <td>2.860474</td>\n",
       "      <td>1.864569</td>\n",
       "      <td>6.699616</td>\n",
       "      <td>-0.048574</td>\n",
       "      <td>0.195279</td>\n",
       "      <td>10.305369</td>\n",
       "      <td>...</td>\n",
       "      <td>0.458401</td>\n",
       "      <td>0.024653</td>\n",
       "      <td>-0.411026</td>\n",
       "      <td>-0.254968</td>\n",
       "      <td>-0.434871</td>\n",
       "      <td>-0.661561</td>\n",
       "      <td>0.964232</td>\n",
       "      <td>0.325298</td>\n",
       "      <td>0.691406</td>\n",
       "      <td>0.547198</td>\n",
       "    </tr>\n",
       "    <tr>\n",
       "      <th>6</th>\n",
       "      <td>Spain</td>\n",
       "      <td>Europe</td>\n",
       "      <td>2020-10-13</td>\n",
       "      <td>2.227200</td>\n",
       "      <td>2.337935</td>\n",
       "      <td>2.585682</td>\n",
       "      <td>7.391984</td>\n",
       "      <td>0.806432</td>\n",
       "      <td>1.838276</td>\n",
       "      <td>3.918771</td>\n",
       "      <td>...</td>\n",
       "      <td>1.696927</td>\n",
       "      <td>0.777997</td>\n",
       "      <td>-0.386084</td>\n",
       "      <td>-0.930890</td>\n",
       "      <td>-0.065422</td>\n",
       "      <td>-0.661561</td>\n",
       "      <td>0.178521</td>\n",
       "      <td>0.945932</td>\n",
       "      <td>0.925118</td>\n",
       "      <td>1.135114</td>\n",
       "    </tr>\n",
       "    <tr>\n",
       "      <th>7</th>\n",
       "      <td>Peru</td>\n",
       "      <td>South America</td>\n",
       "      <td>2020-10-14</td>\n",
       "      <td>2.115108</td>\n",
       "      <td>1.726629</td>\n",
       "      <td>2.603643</td>\n",
       "      <td>6.336596</td>\n",
       "      <td>-0.172829</td>\n",
       "      <td>-0.021598</td>\n",
       "      <td>-0.390633</td>\n",
       "      <td>...</td>\n",
       "      <td>-0.150037</td>\n",
       "      <td>-0.304279</td>\n",
       "      <td>-0.230196</td>\n",
       "      <td>-1.031567</td>\n",
       "      <td>-0.335318</td>\n",
       "      <td>-0.661561</td>\n",
       "      <td>-0.351736</td>\n",
       "      <td>0.331603</td>\n",
       "      <td>0.425823</td>\n",
       "      <td>-1.184986</td>\n",
       "    </tr>\n",
       "    <tr>\n",
       "      <th>8</th>\n",
       "      <td>Mexico</td>\n",
       "      <td>North America</td>\n",
       "      <td>2020-10-14</td>\n",
       "      <td>2.038891</td>\n",
       "      <td>1.625309</td>\n",
       "      <td>6.864242</td>\n",
       "      <td>6.796923</td>\n",
       "      <td>-0.070894</td>\n",
       "      <td>0.055863</td>\n",
       "      <td>8.584708</td>\n",
       "      <td>...</td>\n",
       "      <td>-0.194238</td>\n",
       "      <td>-0.053805</td>\n",
       "      <td>-0.292551</td>\n",
       "      <td>-0.537120</td>\n",
       "      <td>1.237604</td>\n",
       "      <td>2.003979</td>\n",
       "      <td>-0.436887</td>\n",
       "      <td>0.179373</td>\n",
       "      <td>0.510810</td>\n",
       "      <td>-0.068339</td>\n",
       "    </tr>\n",
       "    <tr>\n",
       "      <th>9</th>\n",
       "      <td>France</td>\n",
       "      <td>Europe</td>\n",
       "      <td>2020-10-14</td>\n",
       "      <td>1.855581</td>\n",
       "      <td>3.682326</td>\n",
       "      <td>2.563043</td>\n",
       "      <td>9.425417</td>\n",
       "      <td>-0.116983</td>\n",
       "      <td>3.207145</td>\n",
       "      <td>0.802979</td>\n",
       "      <td>...</td>\n",
       "      <td>1.739323</td>\n",
       "      <td>0.990827</td>\n",
       "      <td>-0.448439</td>\n",
       "      <td>-1.029317</td>\n",
       "      <td>-0.596366</td>\n",
       "      <td>-0.661561</td>\n",
       "      <td>1.343540</td>\n",
       "      <td>0.864862</td>\n",
       "      <td>0.960529</td>\n",
       "      <td>1.407371</td>\n",
       "    </tr>\n",
       "  </tbody>\n",
       "</table>\n",
       "<p>10 rows × 21 columns</p>\n",
       "</div>"
      ],
      "text/plain": [
       "        location      continent        date  total_cases  new_cases_smoothed  \\\n",
       "0  United States  North America  2020-10-14    20.754693           14.747426   \n",
       "1          India           Asia  2020-10-14    19.111525           20.464085   \n",
       "2         Brazil  South America  2020-10-14    13.453268           10.103136   \n",
       "3         Russia         Europe  2020-10-14     3.372000            2.637658   \n",
       "4       Colombia  South America  2020-10-14     2.301761            2.390271   \n",
       "5      Argentina  South America  2020-10-14     2.282926            2.860474   \n",
       "6          Spain         Europe  2020-10-13     2.227200            2.337935   \n",
       "7           Peru  South America  2020-10-14     2.115108            1.726629   \n",
       "8         Mexico  North America  2020-10-14     2.038891            1.625309   \n",
       "9         France         Europe  2020-10-14     1.855581            3.682326   \n",
       "\n",
       "   total_deaths  new_deaths_smoothed  total_tests  new_tests_smoothed  \\\n",
       "0     17.848185            23.520983    11.863473           16.347179   \n",
       "1      9.050137            10.010497     8.297587           18.940322   \n",
       "2     12.426136             9.387989     0.382589            1.445270   \n",
       "3      1.730404             1.436393     4.676550            7.188797   \n",
       "4      2.162721             2.661446     0.117843            0.466481   \n",
       "5      1.864569             6.699616    -0.048574            0.195279   \n",
       "6      2.585682             7.391984     0.806432            1.838276   \n",
       "7      2.603643             6.336596    -0.172829           -0.021598   \n",
       "8      6.864242             6.796923    -0.070894            0.055863   \n",
       "9      2.563043             9.425417    -0.116983            3.207145   \n",
       "\n",
       "   positive_rate  ...  aged_65_older  gdp_per_capita  extreme_poverty  \\\n",
       "0       2.833669  ...       1.092097        1.757988        -0.373613   \n",
       "1       1.516046  ...      -0.324736       -0.589637         0.873490   \n",
       "2      -0.390633  ...       0.060593       -0.212594        -0.236431   \n",
       "3       0.477449  ...       0.906423        0.311092        -0.442203   \n",
       "4      -0.390633  ...      -0.075617       -0.254268        -0.167841   \n",
       "5      10.305369  ...       0.458401        0.024653        -0.411026   \n",
       "6       3.918771  ...       1.696927        0.777997        -0.386084   \n",
       "7      -0.390633  ...      -0.150037       -0.304279        -0.230196   \n",
       "8       8.584708  ...      -0.194238       -0.053805        -0.292551   \n",
       "9       0.802979  ...       1.739323        0.990827        -0.448439   \n",
       "\n",
       "   cardiovasc_death_rate  diabetes_prevalence  handwashing_facilities  \\\n",
       "0              -0.549616             0.735419               -0.661561   \n",
       "1               0.418144             0.646929                1.145364   \n",
       "2              -0.351389             0.142531               -0.661561   \n",
       "3               1.517401            -0.284436               -0.661561   \n",
       "4              -0.747674            -0.005691                1.322445   \n",
       "5              -0.254968            -0.434871               -0.661561   \n",
       "6              -0.930890            -0.065422               -0.661561   \n",
       "7              -1.031567            -0.335318               -0.661561   \n",
       "8              -0.537120             1.237604                2.003979   \n",
       "9              -1.029317            -0.596366               -0.661561   \n",
       "\n",
       "   hospital_beds_per_thousand  life_expectancy  human_development_index  \\\n",
       "0                    0.101112         0.522568                 1.041974   \n",
       "1                   -0.765879        -0.306145                 0.036303   \n",
       "2                   -0.119507         0.254137                 0.457693   \n",
       "3                    2.144732        -0.043119                 0.659536   \n",
       "4                   -0.309161         0.381146                 0.415200   \n",
       "5                    0.964232         0.325298                 0.691406   \n",
       "6                    0.178521         0.945932                 0.925118   \n",
       "7                   -0.351736         0.331603                 0.425823   \n",
       "8                   -0.436887         0.179373                 0.510810   \n",
       "9                    1.343540         0.864862                 0.960529   \n",
       "\n",
       "     smoker  \n",
       "0  0.539306  \n",
       "1 -0.297192  \n",
       "2 -0.080176  \n",
       "3  2.038691  \n",
       "4 -0.466859  \n",
       "5  0.547198  \n",
       "6  1.135114  \n",
       "7 -1.184986  \n",
       "8 -0.068339  \n",
       "9  1.407371  \n",
       "\n",
       "[10 rows x 21 columns]"
      ]
     },
     "execution_count": 32,
     "metadata": {},
     "output_type": "execute_result"
    }
   ],
   "source": [
    "locate"
   ]
  },
  {
   "cell_type": "code",
   "execution_count": null,
   "metadata": {},
   "outputs": [],
   "source": []
  },
  {
   "cell_type": "code",
   "execution_count": 33,
   "metadata": {},
   "outputs": [
    {
     "data": {
      "text/plain": [
       "<Figure size 720x504 with 0 Axes>"
      ]
     },
     "metadata": {},
     "output_type": "display_data"
    },
    {
     "data": {
      "image/png": "[encoded data removed]",
      "text/plain": [
       "<Figure size 432x288 with 2 Axes>"
      ]
     },
     "metadata": {
      "needs_background": "light"
     },
     "output_type": "display_data"
    }
   ],
   "source": [
    "\n",
    "plt.figure(figsize=(10,7))\n",
    "fig, ax= plt.subplots(2)\n",
    "\n",
    "sns.barplot(x=\"location\", y=\"total_cases\", data=locate[:10], label=\"total cases\", color=\"blue\",ax=ax[0])\n",
    "##plt.legend(ncol=2, loc='upper right', frameon=True)\n",
    "plt.xticks(rotation=\"45\")\n",
    "\n",
    "\n",
    "sns.barplot(x=\"location\", y=\"total_deaths\", data=locate[:10], label=\"total deaths\", color=\"red\",ax=ax[1])\n",
    "#plt.legend(ncol=2, loc='upper right', frameon=True)\n",
    "plt.xticks(rotation=\"45\")\n",
    "plt.show()"
   ]
  },
  {
   "cell_type": "code",
   "execution_count": 34,
   "metadata": {},
   "outputs": [
    {
     "data": {
      "image/png": "[encoded data removed]",
      "text/plain": [
       "<Figure size 432x288 with 1 Axes>"
      ]
     },
     "metadata": {
      "needs_background": "light"
     },
     "output_type": "display_data"
    }
   ],
   "source": [
    "sns.barplot(x=\"location\", y=\"positive_rate\", data=locate[:10],label=\"total cases\", color=\"blue\")\n",
    "sns.barplot(x=\"location\", y=\"total_deaths\", data=locate[:10], label=\"total deaths\", color=\"red\")\n",
    "plt.legend(ncol=2, loc='upper right', frameon=True)\n",
    "plt.xticks(rotation=\"45\")\n",
    "plt.show()"
   ]
  },
  {
   "cell_type": "markdown",
   "metadata": {},
   "source": [
    "Above bar graph represents the top 10 maximum infected countries in which United States takes the lead followed by India , Brazil and so on. The blue color represents Total cases and red color represents total deaths where, US is highest in both cases."
   ]
  },
  {
   "cell_type": "code",
   "execution_count": 35,
   "metadata": {},
   "outputs": [],
   "source": [
    "confirmed = data.groupby('date').sum()['total_cases'].reset_index()\n",
    "deaths = data.groupby('date').sum()['total_deaths'].reset_index()"
   ]
  },
  {
   "cell_type": "code",
   "execution_count": 39,
   "metadata": {},
   "outputs": [
    {
     "data": {
      "image/png": "[encoded data removed]",
      "text/plain": [
       "<Figure size 720x216 with 1 Axes>"
      ]
     },
     "metadata": {
      "needs_background": "light"
     },
     "output_type": "display_data"
    }
   ],
   "source": [
    "plt.figure(figsize=(10,3))\n",
    "plt.title(\"line plot showing Total cases and Total deaths with respect to date\")\n",
    "plt.plot(confirmed[\"date\"], confirmed[\"total_cases\"], label=\"total cases\", color=\"blue\")\n",
    "plt.plot(deaths[\"date\"], deaths[\"total_deaths\"],label=\"total deaths\", color=\"green\")\n",
    "plt.xlabel(\"Date\")\n",
    "plt.ylabel(\"Total cases and deaths\")\n",
    "plt.legend(ncol=2, loc='upper left', frameon=True)\n",
    "#plt.plot(data[\"date\"], data[\"positive_rate\"], color=\"red\")\n",
    "\n",
    "plt.show()"
   ]
  },
  {
   "cell_type": "markdown",
   "metadata": {},
   "source": [
    "The graph shows that total cases and total deaths due to covid 19 goes parallel in starting months but in latest months the death count is decreasing."
   ]
  },
  {
   "cell_type": "markdown",
   "metadata": {},
   "source": [
    "# Train Test Splitting"
   ]
  },
  {
   "cell_type": "markdown",
   "metadata": {},
   "source": [
    "Train test spliting should be done for prediction. "
   ]
  },
  {
   "cell_type": "code",
   "execution_count": 42,
   "metadata": {},
   "outputs": [],
   "source": [
    "from sklearn.linear_model import Ridge\n",
    "from sklearn.linear_model import LinearRegression\n",
    "from sklearn.model_selection import train_test_split"
   ]
  },
  {
   "cell_type": "code",
   "execution_count": 43,
   "metadata": {},
   "outputs": [],
   "source": [
    "X=data.drop(['total_cases','location','continent','date'], axis=1)\n",
    "Y=data[\"total_cases\"]"
   ]
  },
  {
   "cell_type": "code",
   "execution_count": 44,
   "metadata": {},
   "outputs": [],
   "source": [
    "X_train, X_test, Y_train, Y_test = train_test_split(X,Y, test_size=0.5)"
   ]
  },
  {
   "cell_type": "markdown",
   "metadata": {},
   "source": [
    "# Prediction"
   ]
  },
  {
   "cell_type": "markdown",
   "metadata": {},
   "source": [
    "for prediction, we use Linear Regression model and Ridge. First, target is selected as total cases, X and Y are train set and test set respectively."
   ]
  },
  {
   "cell_type": "code",
   "execution_count": 45,
   "metadata": {},
   "outputs": [
    {
     "data": {
      "text/plain": [
       "Ridge(alpha=0.01, copy_X=True, fit_intercept=True, max_iter=None,\n",
       "      normalize=False, random_state=None, solver='auto', tol=0.001)"
      ]
     },
     "execution_count": 45,
     "metadata": {},
     "output_type": "execute_result"
    }
   ],
   "source": [
    "ridge = Ridge(alpha=0.01) \n",
    "ridge.fit(X_train, Y_train)"
   ]
  },
  {
   "cell_type": "code",
   "execution_count": 46,
   "metadata": {},
   "outputs": [
    {
     "data": {
      "text/plain": [
       "Ridge(alpha=100, copy_X=True, fit_intercept=True, max_iter=None,\n",
       "      normalize=False, random_state=None, solver='auto', tol=0.001)"
      ]
     },
     "execution_count": 46,
     "metadata": {},
     "output_type": "execute_result"
    }
   ],
   "source": [
    "ridge100 = Ridge(alpha=100)\n",
    "ridge100.fit(X_train, Y_train)"
   ]
  },
  {
   "cell_type": "code",
   "execution_count": 47,
   "metadata": {},
   "outputs": [
    {
     "data": {
      "text/plain": [
       "(0.9215395088974632, 0.9203160840491257)"
      ]
     },
     "execution_count": 47,
     "metadata": {},
     "output_type": "execute_result"
    }
   ],
   "source": [
    "Ridge_train_score = ridge.score(X_train,Y_train)\n",
    "Ridge_test_score = ridge.score(X_test, Y_test)\n",
    "Ridge_train_score,Ridge_test_score"
   ]
  },
  {
   "cell_type": "code",
   "execution_count": 48,
   "metadata": {},
   "outputs": [
    {
     "data": {
      "text/plain": [
       "<matplotlib.legend.Legend at 0x7fa5d64f5cc0>"
      ]
     },
     "execution_count": 48,
     "metadata": {},
     "output_type": "execute_result"
    },
    {
     "data": {
      "image/png": "[encoded data removed]",
      "text/plain": [
       "<Figure size 432x288 with 1 Axes>"
      ]
     },
     "metadata": {
      "needs_background": "light"
     },
     "output_type": "display_data"
    }
   ],
   "source": [
    "predicted= ridge.predict(X_test)\n",
    "fig, ax = plt.subplots()\n",
    "sns.lineplot(x=Y_test.index, y=Y_test.values, ax=ax)\n",
    "sns.lineplot(x=Y_test.index.values, y=predicted, ax=ax)\n",
    "plt.legend(['True','Predicted'])"
   ]
  },
  {
   "cell_type": "code",
   "execution_count": 49,
   "metadata": {},
   "outputs": [
    {
     "data": {
      "text/plain": [
       "<matplotlib.legend.Legend at 0x7fa5d6435a58>"
      ]
     },
     "execution_count": 49,
     "metadata": {},
     "output_type": "execute_result"
    },
    {
     "data": {
      "image/png": "[encoded data removed]",
      "text/plain": [
       "<Figure size 432x288 with 1 Axes>"
      ]
     },
     "metadata": {
      "needs_background": "light"
     },
     "output_type": "display_data"
    }
   ],
   "source": [
    "predicted= ridge100.predict(X_test)\n",
    "fig, ax = plt.subplots()\n",
    "sns.lineplot(x=Y_test.index,y=Y_test.values,ax=ax)\n",
    "sns.lineplot(x=Y_test.index.values,y=predicted,ax=ax)\n",
    "plt.legend(['True','Predicted'])"
   ]
  },
  {
   "cell_type": "markdown",
   "metadata": {},
   "source": [
    "# KNN Regresor"
   ]
  },
  {
   "cell_type": "code",
   "execution_count": 50,
   "metadata": {},
   "outputs": [
    {
     "name": "stdout",
     "output_type": "stream",
     "text": [
      "0.9893336626174362\n"
     ]
    }
   ],
   "source": [
    "from sklearn.neighbors import KNeighborsRegressor\n",
    "model = KNeighborsRegressor(algorithm='ball_tree', \n",
    "                            leaf_size=50, \n",
    "                            metric='minkowski',\n",
    "                            metric_params=None, \n",
    "                            n_jobs=-1, \n",
    "                            n_neighbors=14, \n",
    "                            p=2,\n",
    "                            weights='uniform')\n",
    "model.fit(X_train, Y_train)\n",
    "print(model.score(X_test, Y_test))"
   ]
  },
  {
   "cell_type": "code",
   "execution_count": 51,
   "metadata": {},
   "outputs": [
    {
     "data": {
      "text/plain": [
       "<matplotlib.legend.Legend at 0x7fa5d64bfc88>"
      ]
     },
     "execution_count": 51,
     "metadata": {},
     "output_type": "execute_result"
    },
    {
     "data": {
      "image/png": "[encoded data removed]",
      "text/plain": [
       "<Figure size 432x288 with 1 Axes>"
      ]
     },
     "metadata": {
      "needs_background": "light"
     },
     "output_type": "display_data"
    }
   ],
   "source": [
    "#Prediction on whole data\n",
    "predicted = ridge.predict(data.drop(['total_cases','location','continent','date'],axis=1))\n",
    "fig, ax = plt.subplots()\n",
    "sns.lineplot(x=data.index, y=data['total_cases'].values, ax=ax)\n",
    "sns.lineplot(x=data.index.values, y=predicted, ax=ax)\n",
    "plt.legend(['True','Predicted'])"
   ]
  },
  {
   "cell_type": "markdown",
   "metadata": {},
   "source": [
    "# Support Vecctor Regressor"
   ]
  },
  {
   "cell_type": "code",
   "execution_count": 52,
   "metadata": {},
   "outputs": [
    {
     "data": {
      "text/plain": [
       "SVR(C=1.0, cache_size=200, coef0=0.0, degree=3, epsilon=0.1, gamma='scale',\n",
       "    kernel='rbf', max_iter=-1, shrinking=True, tol=0.001, verbose=False)"
      ]
     },
     "execution_count": 52,
     "metadata": {},
     "output_type": "execute_result"
    }
   ],
   "source": [
    "from sklearn.svm import SVR\n",
    "regressor = SVR(kernel='rbf')\n",
    "regressor.fit(X_train,Y_train)"
   ]
  },
  {
   "cell_type": "code",
   "execution_count": 53,
   "metadata": {},
   "outputs": [
    {
     "data": {
      "text/plain": [
       "<matplotlib.legend.Legend at 0x7fa5d65e7d68>"
      ]
     },
     "execution_count": 53,
     "metadata": {},
     "output_type": "execute_result"
    },
    {
     "data": {
      "image/png": "[encoded data removed]",
      "text/plain": [
       "<Figure size 432x288 with 1 Axes>"
      ]
     },
     "metadata": {
      "needs_background": "light"
     },
     "output_type": "display_data"
    }
   ],
   "source": [
    "predicted = regressor.predict(data.drop(['total_cases','location','continent','date'],axis=1))\n",
    "fig, ax = plt.subplots()\n",
    "sns.lineplot(x=data.index, y=data['total_cases'].values,ax=ax)\n",
    "sns.lineplot(x=data.index.values, y=predicted,ax=ax)\n",
    "plt.legend(['True','Predicted'])"
   ]
  },
  {
   "cell_type": "markdown",
   "metadata": {},
   "source": [
    "# XGBoost Regressor"
   ]
  },
  {
   "cell_type": "code",
   "execution_count": 55,
   "metadata": {},
   "outputs": [
    {
     "name": "stdout",
     "output_type": "stream",
     "text": [
      "Collecting xgboost\n",
      "  Downloading xgboost-1.2.1-py3-none-manylinux2010_x86_64.whl (148.9 MB)\n",
      "\u001b[K     |████████████████████████████████| 148.9 MB 38 kB/s s eta 0:00:01\n",
      "\u001b[?25hRequirement already satisfied: scipy in /home/ec2-user/anaconda3/envs/python3/lib/python3.6/site-packages (from xgboost) (1.4.1)\n",
      "Requirement already satisfied: numpy in /home/ec2-user/anaconda3/envs/python3/lib/python3.6/site-packages (from xgboost) (1.18.1)\n",
      "Installing collected packages: xgboost\n",
      "Successfully installed xgboost-1.2.1\n",
      "\u001b[33mWARNING: You are using pip version 20.0.2; however, version 20.2.4 is available.\n",
      "You should consider upgrading via the '/home/ec2-user/anaconda3/envs/python3/bin/python -m pip install --upgrade pip' command.\u001b[0m\n"
     ]
    }
   ],
   "source": [
    "!pip  install xgboost"
   ]
  },
  {
   "cell_type": "code",
   "execution_count": null,
   "metadata": {},
   "outputs": [
    {
     "name": "stdout",
     "output_type": "stream",
     "text": [
      "Fitting 5 folds for each of 10 candidates, totalling 50 fits\n"
     ]
    },
    {
     "name": "stderr",
     "output_type": "stream",
     "text": [
      "[Parallel(n_jobs=3)]: Using backend LokyBackend with 3 concurrent workers.\n"
     ]
    }
   ],
   "source": [
    "import xgboost as xgb\n",
    "from sklearn.model_selection import RandomizedSearchCV\n",
    "xgb_reg=xgb.XGBRegressor()\n",
    "\n",
    "prams={\n",
    "    'learning_rate':[0.03,0.05,0.1],\n",
    "    'n_estimators':[500,2000,4000],\n",
    "    'max_depth':[5,7,10],\n",
    "    'colsample_bytree':[0.1,0.3,0.5,1],\n",
    "    'subsample':[0.1,0.3,0.5,1]\n",
    "}\n",
    "# tscv = TimeSeriesSplit(n_splits=3)\n",
    "random_clf=RandomizedSearchCV(xgb_reg, param_distributions=prams,verbose=1,\n",
    "                                n_jobs=3,  n_iter=10)\n",
    "random_clf.fit(X_train, Y_train)"
   ]
  },
  {
   "cell_type": "code",
   "execution_count": null,
   "metadata": {},
   "outputs": [],
   "source": [
    "random_clf.best_score_"
   ]
  },
  {
   "cell_type": "code",
   "execution_count": null,
   "metadata": {},
   "outputs": [],
   "source": [
    "random_clf.score(X_test,Y_test)"
   ]
  },
  {
   "cell_type": "code",
   "execution_count": null,
   "metadata": {},
   "outputs": [],
   "source": [
    "random_clf.best_estimator_"
   ]
  },
  {
   "cell_type": "code",
   "execution_count": null,
   "metadata": {},
   "outputs": [],
   "source": [
    "random_clf.best_params_"
   ]
  },
  {
   "cell_type": "code",
   "execution_count": null,
   "metadata": {},
   "outputs": [],
   "source": [
    "predicted = random_clf.best_estimator_.predict(data.drop(['total_cases','location','continent','date'],axis=1))\n",
    "fig, ax = plt.subplots()\n",
    "sns.lineplot(x=data.index, y=data['total_cases'].values,ax=ax)\n",
    "sns.lineplot(x=data.index.values, y=predicted,ax=ax)\n",
    "plt.legend(['True','Predicted'])"
   ]
  },
  {
   "cell_type": "code",
   "execution_count": null,
   "metadata": {},
   "outputs": [],
   "source": [
    ":\n",
    "#Prediction on whole data\n",
    "predicted = random_clf.best_estimator_.predict(X_test)\n",
    "fig, ax = plt.subplots()\n",
    "sns.lineplot(x=X_test.index,y=Y_test,ax=ax)\n",
    "sns.lineplot(x=X_test.index.values,y=predicted,ax=ax)\n",
    "plt.legend(['True','Predicted'])"
   ]
  },
  {
   "cell_type": "code",
   "execution_count": null,
   "metadata": {},
   "outputs": [],
   "source": [
    "from sklearn.metrics import mean_squared_error\n",
    "print(\"MSE for xgboostregressor: \")\n",
    "print(mean_squared_error(predicted,Y_test))"
   ]
  },
  {
   "cell_type": "code",
   "execution_count": null,
   "metadata": {},
   "outputs": [],
   "source": []
  },
  {
   "cell_type": "code",
   "execution_count": null,
   "metadata": {},
   "outputs": [],
   "source": []
  },
  {
   "cell_type": "code",
   "execution_count": null,
   "metadata": {},
   "outputs": [],
   "source": []
  }
 ],
 "metadata": {
  "kernelspec": {
   "display_name": "conda_python3",
   "language": "python",
   "name": "conda_python3"
  },
  "language_info": {
   "codemirror_mode": {
    "name": "ipython",
    "version": 3
   },
   "file_extension": ".py",
   "mimetype": "text/x-python",
   "name": "python",
   "nbconvert_exporter": "python",
   "pygments_lexer": "ipython3",
   "version": "3.6.10"
  }
 },
 "nbformat": 4,
 "nbformat_minor": 4
}
